{
  "cells": [
    {
      "cell_type": "markdown",
      "id": "2e1f370a",
      "metadata": {},
      "source": [
        "# Hello Quantum! \n",
        "\n",
        "This is an example notebook that you can use to quickly and easily run a quantum circuit on quantum hardware.\n",
        "\n",
        "# Initial Config\n",
        "\n",
        "Run this first cell and then **check the output in the box below it.** Make sure it compeltes successfully before you move on.  \n",
        "\n",
        "The code perform basic imports, and ensure that your environment is configured for use with your IBM account. If you have trouble with anything here, please [create an issue](https://github.com/brainwavecollective/hello-quantum/issues/new)."
      ]
    },
    {
      "cell_type": "code",
      "execution_count": null,
      "id": "b07401fc",
      "metadata": {},
      "outputs": [],
      "source": [
        "from qiskit import QuantumCircuit\n",
        "from qiskit.quantum_info import SparsePauliOp\n",
        "from qiskit.transpiler.preset_passmanagers import generate_preset_pass_manager\n",
        "from qiskit_ibm_runtime import EstimatorV2 as Estimator, QiskitRuntimeService, EstimatorOptions\n",
        "\n",
        "from IPython.display import display, clear_output\n",
        "from ipywidgets import Password, Button, VBox, Output, Layout\n",
        "\n",
        "import numpy as np\n",
        "import matplotlib.pyplot as plt\n",
        "\n",
        "# Create the service object\n",
        "service = None\n",
        "\n",
        "# Function to prompt for API key input\n",
        "def prompt_for_api_key():\n",
        "    # Create widgets\n",
        "    password_widget = Password(description=\"API Key:\", layout=Layout(width='100%'))\n",
        "    submit_button = Button(description=\"Submit\")\n",
        "    reset_button = Button(description=\"Reset\")\n",
        "    output = Output()\n",
        "\n",
        "    # Function to handle submit button click\n",
        "    def on_submit(b):\n",
        "        with output:\n",
        "            clear_output(wait=True)\n",
        "            if password_widget.value:\n",
        "                try:\n",
        "                    # Save the account with the provided API key\n",
        "                    QiskitRuntimeService.save_account(token=password_widget.value, channel=\"ibm_quantum\", overwrite=True)\n",
        "                    print(\"API key received and account saved successfully. Attempting to load service again...\")\n",
        "                    try:\n",
        "                        service = QiskitRuntimeService()\n",
        "                        print(\"IBM Quantum service loaded successfully.\")\n",
        "                    except Exception as load_error:\n",
        "                        print(\"Failed to load service after saving the API key:\", load_error)\n",
        "                        raise load_error\n",
        "                except Exception as e:\n",
        "                    print(\"Error saving the account:\", e)\n",
        "            else:\n",
        "                print(\"No input provided.\")\n",
        "\n",
        "    # Function to handle reset button click\n",
        "    def on_reset(b):\n",
        "        with output:\n",
        "            clear_output(wait=True)\n",
        "            print(\"Input reset. Please enter the API key again.\")\n",
        "            password_widget.value = \"\"  # Clear the input field\n",
        "\n",
        "    # Attach button events\n",
        "    submit_button.on_click(on_submit)\n",
        "    reset_button.on_click(on_reset)\n",
        "\n",
        "    # Display the widgets\n",
        "    display(VBox([password_widget, submit_button, reset_button, output]))\n",
        "\n",
        "# Initial attempt to load QiskitRuntimeService\n",
        "try:\n",
        "    service = QiskitRuntimeService()\n",
        "    print(\"IBM Quantum service loaded successfully. You may now proceed.\")\n",
        "except Exception as initial_error:\n",
        "    print(\"Initial load failed:\", initial_error)\n",
        "    print(\"Requesting API key input...\")\n",
        "    prompt_for_api_key()\n"
      ]
    },
    {
      "cell_type": "markdown",
      "id": "80471a0a",
      "metadata": {},
      "source": [
        "# Create and run a simple quantum program\n",
        "\n",
        "The four steps to writing a quantum program using Qiskit patterns are:\n",
        "\n",
        "1.  Map the problem to a quantum-native format.\n",
        "\n",
        "2.  Optimize the circuits and operators.\n",
        "\n",
        "3.  Execute using a quantum primitive function.\n",
        "\n",
        "4.  Analyze the results.\n",
        "\n",
        "### Step 1. Map the problem to a quantum-native format\n",
        "\n",
        "In a quantum program, *quantum circuits* are the native format in which to represent quantum instructions, and *operators* represent the observables to be measured. When creating a circuit, you'll usually create a new [`QuantumCircuit`](/api/qiskit/qiskit.circuit.QuantumCircuit#quantumcircuit-class) object, then add instructions to it in sequence.\n",
        "\n",
        "The following code cell creates a circuit that produces a *Bell state,* which is a state wherein two qubits are fully entangled with each other.\n",
        "\n",
        "<Admonition type=\"note\" title=\"Note: bit ordering\">\n",
        "  The Qiskit SDK uses the LSb 0 bit numbering where the $n^{th}$ digit has value $1 \\ll n$ or $2^n$. For more details, see [Bit-ordering in the Qiskit SDK](https://docs.quantum.ibm.com/guides/bit-ordering).\n",
        "</Admonition>"
      ]
    },
    {
      "cell_type": "code",
      "execution_count": null,
      "id": "930ca3b6",
      "metadata": {
        "tags": []
      },
      "outputs": [],
      "source": [
        "#Bell State Circuit Diagram\n",
        "\n",
        "# Create a new circuit with two qubits\n",
        "qc = QuantumCircuit(2)\n",
        "\n",
        "# Add a Hadamard gate to qubit 0\n",
        "qc.h(0)\n",
        "\n",
        "# Perform a controlled-X gate on qubit 1, controlled by qubit 0\n",
        "qc.cx(0, 1)\n",
        "\n",
        "# Return a drawing of the circuit using MatPlotLib (\"mpl\"). This is the\n",
        "# last line of the cell, so the drawing appears in the cell output.\n",
        "# NOTE: Remove the \"mpl\" argument to get a text drawing.\n",
        "qc.draw(\"mpl\")"
      ]
    },
    {
      "cell_type": "markdown",
      "id": "70a36074",
      "metadata": {},
      "source": [
        "See [`QuantumCircuit`](/api/qiskit/qiskit.circuit.QuantumCircuit#quantumcircuit-class) in the documentation for all available operations.  \n",
        "\n",
        "When creating quantum circuits, you must also consider what type of data you want returned after execution. Qiskit provides two ways to return data: you can obtain a probability distribution for a set of qubits you choose to measure, or you can obtain the expectation value of an observable. Prepare your workload to measure your circuit in one of these two ways with [Qiskit primitives](./get-started-with-primitives) (explained in detail in [Step 3](#step-3-execute-using-the-quantum-primitives)).\n",
        "\n",
        "This example measures expectation values by using the `qiskit.quantum_info` submodule, which is specified by using operators (mathematical objects used to represent an action or process that changes a quantum state). The following code cell creates six two-qubit Pauli operators: `IZ`, `IX`, `ZI`, `XI`, `ZZ`, and `XX`.\n"
      ]
    },
    {
      "cell_type": "code",
      "execution_count": 16,
      "id": "c57b261c-b757-4432-beab-61b526c98a41",
      "metadata": {
        "tags": []
      },
      "outputs": [],
      "source": [
        "# Set up six different observables.\n",
        "\n",
        "observables_labels = [\"IZ\", \"IX\", \"ZI\", \"XI\", \"ZZ\", \"XX\"]\n",
        "observables = [SparsePauliOp(label) for label in observables_labels]"
      ]
    },
    {
      "cell_type": "markdown",
      "id": "47150779",
      "metadata": {},
      "source": [
        "<Admonition type=\"note\" title=\"Operator Notation\">\n",
        "  Here, something like the `ZZ` operator is a shorthand for the tensor product $Z\\otimes Z$, which means measuring Z on qubit 1 and Z on qubit 0 together, and obtaining information about the correlation between qubit 1 and qubit 0. Expectation values like this are also typically written as $\\langle Z_1 Z_0 \\rangle$.\n",
        "\n",
        "  If the state is entangled, then the measurement of $\\langle Z_1 Z_0 \\rangle$ should be 1.\n",
        "</Admonition>\n",
        "\n"
      ]
    },
    {
      "cell_type": "markdown",
      "id": "83bf9151-3bc9-40d2-8615-31570238b08e",
      "metadata": {},
      "source": [
        "<span id=\"optimize\" />\n",
        "\n",
        "### Step 2. Optimize the circuits and operators\n",
        "\n",
        "When executing circuits on a device, it is important to optimize the set of instructions that the circuit contains and minimize the overall depth (roughly the number of instructions) of the circuit. This ensures that you obtain the best results possible by reducing the effects of error and noise. Additionally, the circuit's instructions must conform to a backend device's [Instruction Set Architecture (ISA)](./transpile#instruction-set-architecture) and must consider the device's basis gates and qubit connectivity.\n",
        "\n",
        "The following code instantiates a real device to submit a job to and transforms the circuit and observables to match that backend's ISA.\n",
        "\n"
      ]
    },
    {
      "cell_type": "code",
      "execution_count": null,
      "id": "9a901271",
      "metadata": {},
      "outputs": [],
      "source": [
        "# If you did not previously save your credentials, use the following line instead:\n",
        "# service = QiskitRuntimeService(channel=\"ibm_quantum\", token=\"<MY_IBM_QUANTUM_TOKEN>\")\n",
        "#service = QiskitRuntimeService()\n",
        "\n",
        "backend = service.least_busy(simulator=False, operational=True)\n",
        "\n",
        "# Convert to an ISA circuit and layout-mapped observables.\n",
        "pm = generate_preset_pass_manager(backend=backend, optimization_level=1)\n",
        "isa_circuit = pm.run(qc)\n",
        "\n",
        "isa_circuit.draw('mpl', idle_wires=False)"
      ]
    },
    {
      "cell_type": "markdown",
      "id": "9acac1d4",
      "metadata": {},
      "source": [
        "### Step 3. Execute using the quantum primitives\n",
        "\n",
        "Quantum computers can produce random results, so you usually collect a sample of the outputs by running the circuit many times. You can estimate the value of the observable by using the `Estimator` class. `Estimator` is one of two [primitives](./get-started-with-primitives); the other is `Sampler`, which can be used to get data from a quantum computer.  These objects possess a `run()` method that executes the selection of circuits, observables, and parameters (if applicable), using a [primitive unified bloc (PUB).](primitives#sampler)\n",
        "\n"
      ]
    },
    {
      "cell_type": "code",
      "execution_count": null,
      "id": "62c4ca44",
      "metadata": {
        "tags": []
      },
      "outputs": [],
      "source": [
        "# Construct the Estimator instance.\n",
        "\n",
        "estimator = Estimator(mode=backend)\n",
        "estimator.options.resilience_level = 1\n",
        "estimator.options.default_shots = 5000\n",
        "\n",
        "mapped_observables = [\n",
        "    observable.apply_layout(isa_circuit.layout) for observable in observables\n",
        "]\n",
        "\n",
        "# One pub, with one circuit to run against five different observables.\n",
        "job = estimator.run([(isa_circuit, mapped_observables)])\n",
        "\n",
        "# Use the job ID to retrieve your job data\n",
        "job_id = job.job_id()\n",
        "print(f\">>> Job ID: {job_id}\")"
      ]
    },
    {
      "cell_type": "markdown",
      "id": "a7d8fa95",
      "metadata": {},
      "source": [
        "After a job is submitted, you can wait until either the job is completed within your current python instance, or use the `job_id` to retrieve the data at a later time.  Use the cell below to monitor status and retrive info about the job after it is completed."
      ]
    },
    {
      "cell_type": "code",
      "execution_count": null,
      "id": "de43c430",
      "metadata": {},
      "outputs": [],
      "source": [
        "# Get some info about the job \n",
        "# NOTE: you can override the Job ID and reuse this for any job in your account \n",
        "\n",
        "#Set Default - will retrieve job from previous cell\n",
        "override_job_id = None  # Replace this with a value if needed, or leave as None\n",
        "#override_job_id = 'cwnymxv2ac5gde8hk28g'  \n",
        "\n",
        "# Go get it \n",
        "this_job_id = override_job_id if override_job_id else job_id\n",
        "this_job = service.job(this_job_id)\t\n",
        "\n",
        "# Collect information\n",
        "status = this_job.status()\n",
        "backend = this_job.backend()\n",
        "creation_date = this_job.creation_date  # Access as an attribute\n",
        "tags = this_job.tags\n",
        "usage_estimation = this_job.usage_estimation\n",
        "session_id = this_job.session_id\n",
        "primitive_id = this_job.primitive_id\n",
        "inputs = this_job.inputs\n",
        "image = this_job.image\n",
        "\n",
        "# Print the collected information\n",
        "print(f\"Job ID: {this_job_id}\")\n",
        "print(f\" Job Status: {status}\")\n",
        "print(f\" Backend: {backend}\")\n",
        "print(f\" Creation Date: {creation_date}\")\n",
        "print(f\" Tags: {tags}\")\n",
        "print(f\" Usage Estimation: {usage_estimation}\")\n",
        "print(f\" Session ID: {session_id}\")\n",
        "print(f\" Primitive ID: {primitive_id}\")\n",
        "print(f\" Job Inputs: {inputs}\")\n",
        "print(f\" Runtime Image: {image}\")\n",
        "\n",
        "\n",
        "###########################\n",
        "# Conditionally print additional information, if job is completed\n",
        "if status == 'DONE':\n",
        "    result = this_job.result()\n",
        "    logs = this_job.logs()\n",
        "    error_message = this_job.error_message()\n",
        "\n",
        "    print(f\" Job Result: {result}\")\n",
        "    print(f\" Logs: {logs}\")\n",
        "\n",
        "    if error_message:\n",
        "        print(f\" Error Message: {error_message}\")\n",
        "    else:\n",
        "        print(\" No error message; job completed successfully.\")\n",
        "else:\n",
        "    print(\"Job is not completed. Results, logs, and error messages are unavailable.\")\n"
      ]
    },
    {
      "cell_type": "code",
      "execution_count": 51,
      "id": "792d2f01",
      "metadata": {},
      "outputs": [],
      "source": [
        "# This is the result of the entire submission.  You submitted one Pub,\n",
        "# so this contains one inner result (and some metadata of its own).\n",
        "job_result = job.result()\n",
        "\n",
        "# This is the result from our single pub, which had six observables,\n",
        "# so contains information on all six.\n",
        "pub_result = job.result()[0]"
      ]
    },
    {
      "cell_type": "markdown",
      "id": "48317a25",
      "metadata": {},
      "source": [
        "### A note about local workloads\n",
        "\n",
        "<Admonition type=\"note\" title=\"Alternative: run the example using a simulator\">\n",
        "  When you run your quantum program on a real device, your workload must wait in a queue before it runs. To save time, you can instead use the following code to run this small workload on the [`fake_provider`](../api/qiskit-ibm-runtime/fake_provider) with the Qiskit Runtime local testing mode. Note that this is only possible for a small circuit. When you scale up in the next section, you will need to use a real device.\n",
        "\n",
        "  ```python\n",
        "\n",
        "  # Use the following code instead if you want to run on a simulator:\n",
        "\n",
        "  from qiskit_ibm_runtime.fake_provider import FakeAlmadenV2\n",
        "  backend = FakeAlmadenV2()\n",
        "  estimator = Estimator(backend)\n",
        "\n",
        "  # Convert to an ISA circuit and layout-mapped observables.\n",
        "\n",
        "  pm = generate_preset_pass_manager(backend=backend, optimization_level=1)\n",
        "  isa_circuit = pm.run(qc)\n",
        "  mapped_observables = [\n",
        "      observable.apply_layout(isa_circuit.layout) for observable in observables\n",
        "  ]\n",
        "\n",
        "  job = estimator.run([(isa_circuit, mapped_observables)])\n",
        "  result = job.result()\n",
        "\n",
        "  # This is the result of the entire submission.  You submitted one Pub,\n",
        "  # so this contains one inner result (and some metadata of its own).\n",
        "\n",
        "  job_result = job.result()\n",
        "\n",
        "  # This is the result from our single pub, which had five observables,\n",
        "  # so contains information on all five.\n",
        "\n",
        "  pub_result = job.result()[0]\n",
        "  ```\n",
        "</Admonition>\n",
        "\n"
      ]
    },
    {
      "cell_type": "markdown",
      "id": "d200d1f8",
      "metadata": {},
      "source": [
        "### Step 4. Analyze the results\n",
        "\n",
        "The analyze step is typically where you might postprocess your results using, for example, measurement error mitigation or zero noise extrapolation (ZNE). You might feed these results into another workflow for further analysis or prepare a plot of the key values and data. In general, this step is specific to your problem.  For this example, plot each of the expectation values that were measured for our circuit.\n",
        "\n",
        "The expectation values and standard deviations for the observables you specified to Estimator are accessed through the job result's `PubResult.data.evs` and `PubResult.data.stds` attributes. To obtain the results from Sampler, use the `PubResult.data.meas.get_counts()` function, which will return a `dict` of measurements in the form of bitstrings as keys and counts as their corresponding values. For more information, see [Get started with Sampler.](./get-started-with-primitives#get-started-with-sampler)\n",
        "\n"
      ]
    },
    {
      "cell_type": "code",
      "execution_count": null,
      "id": "87143fcc",
      "metadata": {
        "tags": []
      },
      "outputs": [],
      "source": [
        "# Plot the result\n",
        "\n",
        "from matplotlib import pyplot as plt\n",
        "\n",
        "values = pub_result.data.evs\n",
        "\n",
        "errors = pub_result.data.stds\n",
        "\n",
        "# plotting graph\n",
        "plt.plot(observables_labels, values, '-o')\n",
        "plt.xlabel('Observables')\n",
        "plt.ylabel('Values')\n",
        "plt.show()"
      ]
    },
    {
      "cell_type": "markdown",
      "id": "e6a9ba84",
      "metadata": {},
      "source": [
        "Notice that for qubits 0 and 1, the independent expectation values of both X and Z are 0, while the correlations (`XX` and `ZZ`) are 1. This is a hallmark of quantum entanglement.\n",
        "\n"
      ]
    },
    {
      "cell_type": "code",
      "execution_count": null,
      "id": "6aa0b53d",
      "metadata": {},
      "outputs": [],
      "source": [
        "#Bonus: run this cell to explore more of the job information\n",
        "\n",
        "# Extract and print numerical data\n",
        "data_bin = pub_result.data\n",
        "evs = data_bin.evs  # Expected values\n",
        "stds = data_bin.stds  # Standard deviations\n",
        "ensemble_standard_error = data_bin.ensemble_standard_error  # Ensemble standard error\n",
        "\n",
        "# Print extracted data\n",
        "print(\">>> Extracted Numerical Data:\")\n",
        "print(\"Expected Values (evs):\", evs)\n",
        "print(\"Standard Deviations (stds):\", stds)\n",
        "print(\"Ensemble Standard Error:\", ensemble_standard_error)\n",
        "\n",
        "# Analyze and print job metadata\n",
        "metadata = result[0].metadata\n",
        "print(\"\\n>>> Job Metadata:\")\n",
        "print(metadata)\n",
        "\n",
        "# Check specific metadata points\n",
        "print(\"\\n>>> Analysis of Specific Metadata:\")\n",
        "\n",
        "# Check if 'resilience' key exists and contains 'measure_mitigation'\n",
        "if 'resilience' in metadata and 'measure_mitigation' in metadata['resilience']:\n",
        "    if metadata['resilience']['measure_mitigation']:\n",
        "        print(\"Measurement mitigation was enabled.\")\n",
        "    else:\n",
        "        print(\"Measurement mitigation was not enabled.\")\n",
        "else:\n",
        "    print(\"Measurement mitigation information is not available in the metadata.\")\n",
        "\n",
        "# Print the version, using a default if not present\n",
        "print(\"Version of the result:\", metadata.get('version', 'Unknown'))\n",
        "\n",
        "\n",
        "# Compute and print aggregate statistics\n",
        "mean_evs = np.mean(evs)\n",
        "print(\"\\n>>> Aggregate Statistics:\")\n",
        "print(\"Mean of Expected Values:\", mean_evs)\n",
        "\n",
        "# Visualize data with a plot\n",
        "plt.figure(figsize=(10, 6))\n",
        "plt.errorbar(range(len(evs)), evs, yerr=stds, fmt='o', capsize=5, label='Expected Values')\n",
        "plt.xlabel('Index')\n",
        "plt.ylabel('Value')\n",
        "plt.title('Expected Values with Standard Deviations')\n",
        "plt.grid(True)\n",
        "plt.legend()\n",
        "plt.show()\n"
      ]
    },
    {
      "cell_type": "markdown",
      "id": "0bc582d8",
      "metadata": {},
      "source": [
        "## Scale to large numbers of qubits\n",
        "\n",
        "In quantum computing, utility-scale work is crucial for making progress in the field. Such work requires computations to be done on a much larger scale; working with circuits that might use over 100 qubits and over 1000 gates. This example demonstrates how you can accomplish utility-scale work on IBM® QPUs by creating and analyzing a 100-qubit GHZ state.  It uses the Qiskit patterns workflow and ends by measuring the expectation value $\\langle Z_0 Z_i \\rangle $ for each qubit.\n",
        "\n",
        "### Step 1. Map the problem\n",
        "\n",
        "Write a function that returns a `QuantumCircuit` that prepares an $n$-qubit GHZ state (essentially an extended Bell state), then use that function to prepare a 100-qubit GHZ state and collect the observables to be measured.\n",
        "\n"
      ]
    },
    {
      "cell_type": "code",
      "execution_count": 40,
      "id": "2ac02692",
      "metadata": {},
      "outputs": [],
      "source": [
        "def get_qc_for_n_qubit_GHZ_state(n: int) -> QuantumCircuit:\n",
        "    \"\"\"This function will create a qiskit.QuantumCircuit (qc) for an n-qubit GHZ state.\n",
        "\n",
        "    Args:\n",
        "        n (int): Number of qubits in the n-qubit GHZ state\n",
        "\n",
        "    Returns:\n",
        "        QuantumCircuit: Quantum circuit that generate the n-qubit GHZ state, assuming all qubits start in the 0 state\n",
        "    \"\"\"\n",
        "    if isinstance(n, int) and n >= 2:\n",
        "        qc = QuantumCircuit(n)\n",
        "        qc.h(0)\n",
        "        for i in range(n-1):\n",
        "            qc.cx(i, i+1)\n",
        "    else:\n",
        "        raise Exception(\"n is not a valid input\")\n",
        "    return qc\n",
        "\n",
        "# Create a new circuit with two qubits (first argument) and two classical\n",
        "# bits (second argument)\n",
        "n = 100\n",
        "qc = get_qc_for_n_qubit_GHZ_state(n)"
      ]
    },
    {
      "cell_type": "markdown",
      "id": "5b3d0d74",
      "metadata": {},
      "source": [
        "Next, map to the operators of interest. This example uses the `ZZ` operators between qubits to examine the behavior as they get farther apart.  Increasingly inaccurate (corrupted) expectation values between distant qubits would reveal the level of noise present.\n",
        "\n"
      ]
    },
    {
      "cell_type": "code",
      "execution_count": null,
      "id": "863a4ec9",
      "metadata": {},
      "outputs": [],
      "source": [
        "# ZZII...II, ZIZI...II, ... , ZIII...IZ\n",
        "operator_strings = ['Z' + 'I'*i + 'Z' + 'I'*(n-2-i) for i in range(n-1)]\n",
        "print(operator_strings)\n",
        "print(len(operator_strings))\n",
        "\n",
        "operators = [SparsePauliOp(operator) for operator in operator_strings]"
      ]
    },
    {
      "cell_type": "markdown",
      "id": "a0b462ce",
      "metadata": {},
      "source": [
        "### Step 2. Optimize the problem for execution on quantum hardware\n",
        "\n",
        "Transform the circuit and observables to match the backend's ISA.\n",
        "\n"
      ]
    },
    {
      "cell_type": "code",
      "execution_count": 43,
      "id": "428f05e7",
      "metadata": {},
      "outputs": [],
      "source": [
        "backend = service.least_busy(simulator=False, operational=True, min_num_qubits=100)\n",
        "pm = generate_preset_pass_manager(optimization_level=1, backend=backend)\n",
        "\n",
        "isa_circuit = pm.run(qc)\n",
        "isa_operators_list = [op.apply_layout(isa_circuit.layout) for op in operators]"
      ]
    },
    {
      "cell_type": "markdown",
      "id": "2d2b5065",
      "metadata": {},
      "source": [
        "### Step 3. Execute on quantum hardware\n",
        "\n",
        "Submit the job and enable error suppression by using a technique to reduce errors called [dynamical decoupling.](../api/qiskit-ibm-runtime/qiskit_ibm_runtime.options.DynamicalDecouplingOptions) The resilience level specifies how much resilience to build against errors. Higher levels generate more accurate results, at the expense of longer processing times.  For further explanation of the options set in the following code, see [Configure error mitigation for Qiskit Runtime.](./configure-error-mitigation)\n",
        "\n"
      ]
    },
    {
      "cell_type": "code",
      "execution_count": 45,
      "id": "3aaa5025",
      "metadata": {},
      "outputs": [],
      "source": [
        "options = EstimatorOptions()\n",
        "options.resilience_level = 1\n",
        "options.dynamical_decoupling.enable = True\n",
        "options.dynamical_decoupling.sequence_type = \"XY4\"\n",
        "\n",
        "# Create an Estimator object\n",
        "estimator = Estimator(backend, options=options)"
      ]
    },
    {
      "cell_type": "code",
      "execution_count": null,
      "id": "b4c3d3e7-0a0f-4023-8948-1082e225f46c",
      "metadata": {},
      "outputs": [],
      "source": [
        "# Submit the circuit to Estimator\n",
        "job = estimator.run([(isa_circuit, isa_operators_list)])\n",
        "job_id = job.job_id()\n",
        "print(job_id)"
      ]
    },
    {
      "cell_type": "markdown",
      "id": "0bc64091",
      "metadata": {},
      "source": [
        "### Step 4. Post-process results\n",
        "\n",
        "After the job completes, plot the results and notice that $\\langle Z_0 Z_i \\rangle$ decreases with increasing $i$, even though in an ideal simulation all $\\langle Z_0 Z_i \\rangle$ should be 1.\n",
        "\n"
      ]
    },
    {
      "cell_type": "code",
      "execution_count": null,
      "id": "de91ebd0",
      "metadata": {},
      "outputs": [],
      "source": [
        "# data\n",
        "data = list(range(1, len(operators)+1)) # Distance between the Z operators\n",
        "result = job.result()[0]\n",
        "values = result.data.evs # Expectation value at each Z operator.\n",
        "values = [v / values[0] for v in values] # Normalize the expectation values to evaluate how they decay with distance.\n",
        "\n",
        "# plotting graph\n",
        "plt.plot(data, values, marker='o', label='100-qubit GHZ state')\n",
        "plt.xlabel('Distance between qubits $i$')\n",
        "plt.ylabel(r'$\\langle Z_i Z_0 \\rangle / \\langle Z_1 Z_0 \\rangle $')\n",
        "plt.legend()\n",
        "plt.show()"
      ]
    },
    {
      "cell_type": "markdown",
      "id": "0afc307c",
      "metadata": {},
      "source": [
        "The previous plot shows that as the distance between qubits increases, the signal decays because of the presence of noise.\n",
        "\n"
      ]
    },
    {
      "cell_type": "markdown",
      "id": "e7c24c81",
      "metadata": {},
      "source": [
        "## Next steps\n",
        "  *   Learn how to [build quantum circuits](https://docs.quantum.ibm.com/guides/map-problem-to-circuits) in more detail.\n",
        "  *   Try a [tutorial](https://learning.quantum.ibm.com/catalog/tutorials) in IBM Quantum Learning.\n",
        "  *   [Contact Daniel](mailto:daniel@brainwavecollective.ai) at the Brain Wave Collective with any questions."
      ]
    }
  ],
  "metadata": {
    "celltoolbar": "Raw Cell Format",
    "description": "Get started using Qiskit with IBM Quantum hardware in this Hello World example",
    "kernelspec": {
      "display_name": "Python 3 (ipykernel)",
      "language": "python",
      "name": "python3"
    },
    "language_info": {
      "codemirror_mode": {
        "name": "ipython",
        "version": 3
      },
      "file_extension": ".py",
      "mimetype": "text/x-python",
      "name": "python",
      "nbconvert_exporter": "python",
      "pygments_lexer": "ipython3",
      "version": "3.11.10"
    },
    "title": "Hello world",
    "widgets": {
      "application/vnd.jupyter.widget-state+json": {
        "state": {},
        "version_major": 2,
        "version_minor": 0
      }
    }
  },
  "nbformat": 4,
  "nbformat_minor": 5
}
